{
 "cells": [
  {
   "cell_type": "code",
   "execution_count": null,
   "metadata": {},
   "outputs": [],
   "source": [
    "---\n",
    "title: \"Docker for Data Scientists\"\n",
    "format: \n",
    "  pptx:\n",
    "    reference-doc: xtemplate.potx\n",
    "\n",
    "jupyter: python3\n",
    "---"
   ]
  },
  {
   "cell_type": "code",
   "execution_count": null,
   "metadata": {},
   "outputs": [],
   "source": [
    "![Docker](docker-logo.jpg)"
   ]
  },
  {
   "cell_type": "markdown",
   "metadata": {},
   "source": [
    "## Docker \n",
    "## Overview\n",
    "- Docker is multiple things!\n",
    "- In this talk I'll go over what those things are, when and where you could and should use docker, and then a demo of how it can work!\n",
    "\n",
    "## Key Takeaways\n",
    "- Having our models and applications be portable increases speed and reduces pain.\n",
    "- Docker is one of the most commonly used methods in industry for this use case\n",
    "\n",
    "## What is Docker?\n",
    "- Docker is:\n",
    "    - A company\n",
    "    - A virtualization runtime\n",
    "    - A container format!\n",
    "\n",
    "## Docker The Company:\n",
    "- Docker the company was founded in 2008 as dotCloud\n",
    "    - Renamed to Docker in 2013 \n",
    "    - Raised a lot of VC Money\n",
    "    - Pulled a bunch of enterprise licensing shenanigans and is now a little expensive\n",
    "\n",
    "## Docker the container format\n",
    "- Docker is a standardized file format for packing an application and its dependencies.\n",
    "    - these 'containers' contain everything needed to run the application in any docker compatable environment.\n",
    "    - The software community formalized the docker image format at the Open Container Initiative (OCI) format.\n",
    "        - Docker container files are made primarily of tar archive files\n",
    "\n",
    "## funfact tangent\n",
    "\n",
    "- Tar was first released in January 1979 (according to wikipedia)\n",
    "    - tar is short for Tape ARchive\n",
    "        - Originally intended to be used for devices like magnetic tape archives.\n",
    "            - Docker, the \n",
    "\n",
    "## Docker the container runtime / engine\n",
    "- Containerd is a container runtime that allows you to run any OCI container.\n",
    "    - Docker Engine is Docker the company's software for running containers, built on Containerd\n",
    "    - There are other runtimes, like Kata Containers, Colima, CRI-O\n",
    "    - Important thing here is to remember that you need something to actually run your containers.\n",
    "\n",
    "\n",
    "## Benefits of Docker - What you get\n",
    "- Containerization\n",
    "    - Docker enables us to package up our applications and models into a single container file. \n",
    "        - when compressed this can save a lot of bandwidth and storage space compared to sending raw files. \n",
    "- Portability\n",
    "    - Containerized artifacts means we don't have to deal with getting all the packages and libraries and random crud from Nvidia running on the deployment machine if we it can run a container.\n",
    "- Isolation\n",
    "    - Containers are isolated from each other, resulting in increased security and stability.\n",
    "\n",
    "## DEMO"
   ]
  },
  {
   "cell_type": "code",
   "execution_count": null,
   "metadata": {},
   "outputs": [],
   "source": []
  },
  {
   "cell_type": "code",
   "execution_count": null,
   "metadata": {},
   "outputs": [],
   "source": []
  }
 ],
 "metadata": {
  "kernelspec": {
   "display_name": "Python 3",
   "language": "python",
   "name": "python3"
  },
  "language_info": {
   "name": "python",
   "version": "3.11.4"
  }
 },
 "nbformat": 4,
 "nbformat_minor": 2
}
